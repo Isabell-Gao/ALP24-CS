{
  "nbformat": 4,
  "nbformat_minor": 0,
  "metadata": {
    "colab": {
      "provenance": [],
      "authorship_tag": "ABX9TyNpWcs5KYGJlMYxyPdbFZYh",
      "include_colab_link": true
    },
    "kernelspec": {
      "name": "python3",
      "display_name": "Python 3"
    },
    "language_info": {
      "name": "python"
    }
  },
  "cells": [
    {
      "cell_type": "markdown",
      "metadata": {
        "id": "view-in-github",
        "colab_type": "text"
      },
      "source": [
        "<a href=\"https://colab.research.google.com/github/Isabell-Gao/ALP24-CS/blob/main/ALP24_Day_1.ipynb\" target=\"_parent\"><img src=\"https://colab.research.google.com/assets/colab-badge.svg\" alt=\"Open In Colab\"/></a>"
      ]
    },
    {
      "cell_type": "code",
      "execution_count": null,
      "metadata": {
        "colab": {
          "base_uri": "https://localhost:8080/"
        },
        "id": "j4jYHbzsy-oc",
        "outputId": "a8a7bc33-08fc-4f0b-efbb-9d46301de97d"
      },
      "outputs": [
        {
          "output_type": "stream",
          "name": "stdout",
          "text": [
            "hello world\n"
          ]
        }
      ],
      "source": [
        "print(\"hello world\")"
      ]
    },
    {
      "cell_type": "code",
      "source": [
        "# Task Investigate"
      ],
      "metadata": {
        "id": "dAt3bFTB0DvC"
      },
      "execution_count": null,
      "outputs": []
    },
    {
      "cell_type": "code",
      "source": [
        "print(\"What's orange and sounds like a parrot?\")\n",
        "print(\"\")\n",
        "print(\"A carrot!\")"
      ],
      "metadata": {
        "colab": {
          "base_uri": "https://localhost:8080/"
        },
        "id": "Kp21SKgh8fzy",
        "outputId": "6e26fce8-a54d-4332-f45e-941a376657d2"
      },
      "execution_count": null,
      "outputs": [
        {
          "output_type": "stream",
          "name": "stdout",
          "text": [
            "What's orange and sounds like a parrot?\n",
            "\n",
            "A carrot!\n"
          ]
        }
      ]
    },
    {
      "cell_type": "code",
      "source": [
        "favColor = \"blue\"\n",
        "print(favColor)\n",
        "print(\"My favourite color is \"+favColor)"
      ],
      "metadata": {
        "colab": {
          "base_uri": "https://localhost:8080/"
        },
        "id": "ZMQvrF3M_ajb",
        "outputId": "ddfdd164-8f04-473b-b4f6-9047a8bbdf26"
      },
      "execution_count": null,
      "outputs": [
        {
          "output_type": "stream",
          "name": "stdout",
          "text": [
            "blue\n",
            "My favourite color is blue\n"
          ]
        }
      ]
    },
    {
      "cell_type": "code",
      "source": [],
      "metadata": {
        "id": "U4gZwxghBM7-"
      },
      "execution_count": null,
      "outputs": []
    },
    {
      "cell_type": "markdown",
      "source": [
        "#Programing Variables\n"
      ],
      "metadata": {
        "id": "R7NmIUqXBYMG"
      }
    },
    {
      "cell_type": "code",
      "source": [
        "name1 = \"Ax1\"\n",
        "name2 = \"Slash\"\n",
        "name3 = \"Duff\"\n",
        "name4 = \"Izzy\"\n",
        "\n",
        "print(name1 + \" and \" + name2 + \" and \" + name3 + \" and \" + name4)"
      ],
      "metadata": {
        "colab": {
          "base_uri": "https://localhost:8080/"
        },
        "id": "3wNo1uKzBek3",
        "outputId": "a7056780-5ad2-4ca5-f261-ae18892f4f34"
      },
      "execution_count": null,
      "outputs": [
        {
          "output_type": "stream",
          "name": "stdout",
          "text": [
            "Ax1 and Slash and Duff and Izzy\n"
          ]
        }
      ]
    },
    {
      "cell_type": "code",
      "source": [
        "name1 = \"fish\"\n",
        "name2 = \"chips\"\n"
      ],
      "metadata": {
        "id": "BCNfnQVaBnXO"
      },
      "execution_count": null,
      "outputs": []
    },
    {
      "cell_type": "markdown",
      "source": [
        "#Programing Input\n",
        "##Task 1\n"
      ],
      "metadata": {
        "id": "ZhgBA7aGD9Uh"
      }
    },
    {
      "cell_type": "code",
      "source": [
        "print(\"Hi!What is your name?\")\n",
        "name = (\"Isabell\")\n",
        "print(\"Hi!\" + name + \"! How are you today?\")"
      ],
      "metadata": {
        "colab": {
          "base_uri": "https://localhost:8080/"
        },
        "id": "-XE8MH02EDED",
        "outputId": "87ca94f1-0d28-415b-9060-6aba291cc996"
      },
      "execution_count": null,
      "outputs": [
        {
          "output_type": "stream",
          "name": "stdout",
          "text": [
            "Hi!What is your name?\n",
            "Hi!Isabell! How are you today?\n"
          ]
        }
      ]
    },
    {
      "cell_type": "code",
      "source": [
        "name = input (\"Waht's your name?\")\n"
      ],
      "metadata": {
        "colab": {
          "base_uri": "https://localhost:8080/"
        },
        "id": "5E_zH_50Ec9k",
        "outputId": "b8698606-6f0e-478f-d2cf-d7031014a89f"
      },
      "execution_count": null,
      "outputs": [
        {
          "name": "stdout",
          "output_type": "stream",
          "text": [
            "Waht's your name?Isabell\n"
          ]
        }
      ]
    },
    {
      "cell_type": "code",
      "source": [
        "name = \"Isabell\"\n",
        "print(\"We want to know if you like programming!\")\n",
        "print()\n",
        "answer = input()\n",
        "print(\"Great!\" + name + \" You said \" + answer + \"!\")\n",
        "print(\"Let's learn some Python today\")"
      ],
      "metadata": {
        "colab": {
          "base_uri": "https://localhost:8080/"
        },
        "id": "zrysYiBUFLBI",
        "outputId": "bc531cc3-3d48-40c5-d934-53bfddd0201f"
      },
      "execution_count": null,
      "outputs": [
        {
          "output_type": "stream",
          "name": "stdout",
          "text": [
            "We want to know if you like programming!\n",
            "\n",
            "I like it\n",
            "Great!Isabell You said I like it!\n",
            "Let's learn some Python today\n"
          ]
        }
      ]
    },
    {
      "cell_type": "markdown",
      "source": [
        "#Chat-bot exercise"
      ],
      "metadata": {
        "id": "jEhys-lWYJfp"
      }
    },
    {
      "cell_type": "code",
      "source": [
        "print(\"Good afternoon! What is your name?\")\n",
        "answer1 = input()\n",
        "print(\"Hi,\" + answer1 + \"!\" + \"How was your day today?\")\n",
        "answer2 = input()\n",
        "print(\"Great! What did you learn today?\")\n",
        "answer3 = input()\n",
        "print(\"Got it. You said you learned \" + answer3 + \"!\")\n",
        "print(\"Awesome! What do you want to eat as a dinner?\")\n",
        "answer4 = input()\n",
        "print(\"Sounds delicious.\")\n",
        "print(\"What is your favorite color?\")\n",
        "answer5 = input()\n",
        "print(\"So \" + answer1 + \", you are learning \" + answer3 + \", you want eat \" + answer4 + \" as a dinner, and your favorite color is \"+ answer5 + \".\")\n"
      ],
      "metadata": {
        "colab": {
          "base_uri": "https://localhost:8080/"
        },
        "id": "Fq4aOBTAY3Oh",
        "outputId": "69e8ee78-68ec-47dd-f934-2c5282b3321d"
      },
      "execution_count": null,
      "outputs": [
        {
          "output_type": "stream",
          "name": "stdout",
          "text": [
            "Good afternoon! What is your name?\n",
            "Isabell\n",
            "Hi,Isabell!How was your day today?\n",
            "not bad\n",
            "Great! What did you learn today?\n",
            "coding \n",
            "Got it. You said you learned coding !\n",
            "Awesome! What do you want to eat as a dinner?\n",
            "hotpot\n",
            "Sounds delicious.\n",
            "What is your favorite color?\n",
            "blue\n",
            "So Isabell, you are learning coding , you want eat hotpot as a dinner, and your favorite color is blue.\n"
          ]
        }
      ]
    },
    {
      "cell_type": "markdown",
      "source": [
        "#Task 1"
      ],
      "metadata": {
        "id": "XxOIKfMhgByG"
      }
    },
    {
      "cell_type": "code",
      "source": [
        "print( 8 + 2 )"
      ],
      "metadata": {
        "colab": {
          "base_uri": "https://localhost:8080/"
        },
        "id": "PuVmMnhPblc6",
        "outputId": "8ca9a544-7ea8-426a-fb19-6c886f558cd3"
      },
      "execution_count": null,
      "outputs": [
        {
          "output_type": "stream",
          "name": "stdout",
          "text": [
            "10\n"
          ]
        }
      ]
    },
    {
      "cell_type": "code",
      "source": [
        "print(8 - 2)"
      ],
      "metadata": {
        "colab": {
          "base_uri": "https://localhost:8080/"
        },
        "id": "kyOxzjUqf3d-",
        "outputId": "6bb5361b-7ac8-4acd-9e2d-c674f6c350ab"
      },
      "execution_count": null,
      "outputs": [
        {
          "output_type": "stream",
          "name": "stdout",
          "text": [
            "6\n"
          ]
        }
      ]
    },
    {
      "cell_type": "code",
      "source": [
        "score = 0\n",
        "print(score)"
      ],
      "metadata": {
        "colab": {
          "base_uri": "https://localhost:8080/"
        },
        "id": "gPE9BSR1f7OT",
        "outputId": "5afe06d0-3ff1-4224-9402-1fc4cd48a895"
      },
      "execution_count": null,
      "outputs": [
        {
          "output_type": "stream",
          "name": "stdout",
          "text": [
            "0\n"
          ]
        }
      ]
    },
    {
      "cell_type": "code",
      "source": [
        "score += 1\n",
        "print(score)"
      ],
      "metadata": {
        "colab": {
          "base_uri": "https://localhost:8080/"
        },
        "id": "GfHAKOZFgauN",
        "outputId": "38a33c3b-2fc4-4c13-96d7-360ce387f887"
      },
      "execution_count": null,
      "outputs": [
        {
          "output_type": "stream",
          "name": "stdout",
          "text": [
            "2\n"
          ]
        }
      ]
    },
    {
      "cell_type": "code",
      "source": [
        "score = score + 1\n",
        "print(score)"
      ],
      "metadata": {
        "colab": {
          "base_uri": "https://localhost:8080/"
        },
        "id": "kfh3Kd0bg5OX",
        "outputId": "d3d01cf3-b28a-4faa-d12c-8772dab33c86"
      },
      "execution_count": null,
      "outputs": [
        {
          "output_type": "stream",
          "name": "stdout",
          "text": [
            "3\n"
          ]
        }
      ]
    },
    {
      "cell_type": "code",
      "source": [
        "print(5 / 2)"
      ],
      "metadata": {
        "colab": {
          "base_uri": "https://localhost:8080/"
        },
        "id": "CbiT6XeAhJFo",
        "outputId": "f7583a4c-9cd4-49d8-ad4f-741a3e016f8d"
      },
      "execution_count": null,
      "outputs": [
        {
          "output_type": "stream",
          "name": "stdout",
          "text": [
            "2.5\n"
          ]
        }
      ]
    },
    {
      "cell_type": "code",
      "source": [
        "print(5 // 2)"
      ],
      "metadata": {
        "colab": {
          "base_uri": "https://localhost:8080/"
        },
        "id": "u6bxzAughPPe",
        "outputId": "d62df91e-be47-46f6-8034-3b952408b0af"
      },
      "execution_count": null,
      "outputs": [
        {
          "output_type": "stream",
          "name": "stdout",
          "text": [
            "2\n"
          ]
        }
      ]
    },
    {
      "cell_type": "code",
      "source": [
        "num = int(input(\"5\"))"
      ],
      "metadata": {
        "colab": {
          "base_uri": "https://localhost:8080/"
        },
        "id": "cVc7ZrPvhSK1",
        "outputId": "9fc5646b-21a4-47d2-c544-5afffd81b2f4"
      },
      "execution_count": null,
      "outputs": [
        {
          "name": "stdout",
          "output_type": "stream",
          "text": [
            "55\n"
          ]
        }
      ]
    },
    {
      "cell_type": "markdown",
      "source": [
        "##Task 5 Area Calculater"
      ],
      "metadata": {
        "id": "wQZuDlBCi8C3"
      }
    },
    {
      "cell_type": "code",
      "source": [
        "lenth = int(input(\"\"))\n",
        "width = int(input(\"\"))\n",
        "print(\"area = \",lenth * width)"
      ],
      "metadata": {
        "colab": {
          "base_uri": "https://localhost:8080/"
        },
        "id": "eKcYJonhjBcx",
        "outputId": "a1ac36f5-b232-4b31-c2f2-9f9b621f9c46"
      },
      "execution_count": null,
      "outputs": [
        {
          "output_type": "stream",
          "name": "stdout",
          "text": [
            "66\n",
            "37\n",
            "area =  2442\n"
          ]
        }
      ]
    },
    {
      "cell_type": "markdown",
      "source": [
        "#Permeter Calc"
      ],
      "metadata": {
        "id": "jYX2EhChlFaB"
      }
    },
    {
      "cell_type": "code",
      "source": [
        "lenth = int(input(\"\"))\n",
        "width = int(input(\"\"))\n",
        "print(\"Permeter=\",2 * lenth + 2 * width)"
      ],
      "metadata": {
        "colab": {
          "base_uri": "https://localhost:8080/"
        },
        "id": "uZGGx_zslI4x",
        "outputId": "23a00dbd-2e6c-44a3-c360-e1287b174181"
      },
      "execution_count": null,
      "outputs": [
        {
          "output_type": "stream",
          "name": "stdout",
          "text": [
            "77\n",
            "20\n",
            "Permeter= 194\n"
          ]
        }
      ]
    },
    {
      "cell_type": "markdown",
      "source": [
        "#Restaurant Tip Calc\n"
      ],
      "metadata": {
        "id": "W71h2Et5llw6"
      }
    },
    {
      "cell_type": "code",
      "source": [
        "subtotal = int(input(\"\"))\n",
        "print(\"Tip=\", 0.2 * subtotal)\n",
        "print(\"Total price=\", 1.2 * subtotal)"
      ],
      "metadata": {
        "colab": {
          "base_uri": "https://localhost:8080/"
        },
        "id": "2lJ-Zy5-liCd",
        "outputId": "80188f29-0815-4714-87e8-7c24e7e299a2"
      },
      "execution_count": null,
      "outputs": [
        {
          "output_type": "stream",
          "name": "stdout",
          "text": [
            "398\n",
            "Tip= 79.60000000000001\n",
            "Total price= 477.59999999999997\n"
          ]
        }
      ]
    },
    {
      "cell_type": "markdown",
      "source": [
        "#Volume and Surface Calc"
      ],
      "metadata": {
        "id": "HzUoOOAnnMRn"
      }
    },
    {
      "cell_type": "code",
      "source": [
        "lenth = int(input(\"\"))\n",
        "width = int(input(\"\"))\n",
        "height = int(input(\"\"))\n",
        "print(\"Volume=\", lenth * width * height)\n",
        "print(\"Surface=\", 2 * lenth * width + 2 * lenth * height + 2 * width * height)"
      ],
      "metadata": {
        "colab": {
          "base_uri": "https://localhost:8080/"
        },
        "id": "AJTyReFmmXig",
        "outputId": "a5eeab56-756c-4b50-9317-0008e48ad0b5"
      },
      "execution_count": null,
      "outputs": [
        {
          "output_type": "stream",
          "name": "stdout",
          "text": [
            "23\n",
            "45\n",
            "23\n",
            "Volume= 23805\n",
            "Surface= 5198\n"
          ]
        }
      ]
    },
    {
      "cell_type": "code",
      "source": [
        "num1 = 100\n",
        "num2 = 50\n",
        "if num1 > num2:\n",
        "  print(\"num1 is bigger\")"
      ],
      "metadata": {
        "colab": {
          "base_uri": "https://localhost:8080/"
        },
        "id": "uVubVFIdq6PC",
        "outputId": "6061c6a0-a336-42f1-a076-c9c19087e1c0"
      },
      "execution_count": null,
      "outputs": [
        {
          "output_type": "stream",
          "name": "stdout",
          "text": [
            "num1 is bigger\n",
            "End of program\n"
          ]
        }
      ]
    },
    {
      "cell_type": "markdown",
      "source": [
        "#Task 3"
      ],
      "metadata": {
        "id": "Fnmg2WPXuHGF"
      }
    },
    {
      "cell_type": "code",
      "source": [
        "password = int(input(\"\"))\n",
        "if password != 1337:\n",
        "  print(\"Password incorrect\")\n",
        "  print(\"Try again\")\n",
        "  password = int(input(\"\"))\n",
        "if password == 1337:\n",
        "  print(\"Password correct\")\n"
      ],
      "metadata": {
        "colab": {
          "base_uri": "https://localhost:8080/"
        },
        "id": "I_NE0EM1tD0h",
        "outputId": "c165593c-2506-40de-98e8-656638b7dca1"
      },
      "execution_count": null,
      "outputs": [
        {
          "output_type": "stream",
          "name": "stdout",
          "text": [
            "1117\n",
            "Password incorrect\n",
            "Try again\n",
            "1337\n",
            "Password correct\n"
          ]
        }
      ]
    },
    {
      "cell_type": "markdown",
      "source": [
        "#Task 4"
      ],
      "metadata": {
        "id": "eCl0BYDQvrFQ"
      }
    },
    {
      "cell_type": "code",
      "source": [
        "num1 = int(input(\"\"))\n",
        "num2 = int(input(\"\"))\n",
        "if num1 > num2:\n",
        "  print(num1)\n",
        "else:\n",
        "  print(num2)"
      ],
      "metadata": {
        "colab": {
          "base_uri": "https://localhost:8080/"
        },
        "id": "JHsEz1-8us7H",
        "outputId": "cc97c0ed-9996-46a7-d1bc-a3350dede04e"
      },
      "execution_count": null,
      "outputs": [
        {
          "output_type": "stream",
          "name": "stdout",
          "text": [
            "56\n",
            "86\n",
            "86\n"
          ]
        }
      ]
    },
    {
      "cell_type": "markdown",
      "source": [
        "#Elif-Task: Which room"
      ],
      "metadata": {
        "id": "CmpN7z7-5Rf2"
      }
    },
    {
      "cell_type": "code",
      "source": [
        "name1 = input(\"\")\n",
        "subject1 = input(\"\")\n",
        "if name1 != \"Isabell\" and subject1 != \"cs\":\n",
        "  print(\"Sorry, there's something wrong, try again\")\n",
        "elif name1 == \"Isabell\" and subject1 != \"cs\":\n",
        "  print(\"Sorry \" + name1 + \", there's something wrong, try again\")\n",
        "else:\n",
        "  print(\"Hi \" + name1 + \", go to room 241 for \" + \"cs\")"
      ],
      "metadata": {
        "colab": {
          "base_uri": "https://localhost:8080/"
        },
        "id": "nAMaBHYiwO-q",
        "outputId": "c3274cc2-70ec-4b05-b9ec-0c3714f9a8f3"
      },
      "execution_count": null,
      "outputs": [
        {
          "output_type": "stream",
          "name": "stdout",
          "text": [
            "Isabell\n",
            "cs\n",
            "Hi Isabell, go to room 241 for cs\n"
          ]
        }
      ]
    },
    {
      "cell_type": "markdown",
      "source": [
        "#Extra Challenge"
      ],
      "metadata": {
        "id": "HgBpLkDt9knx"
      }
    },
    {
      "cell_type": "code",
      "source": [
        "print(\"What is your name?\")\n",
        "name1 = input(\"\")\n",
        "print(\"Choose a number between 1 and 5.\")\n",
        "num1 = int(input(\"\"))\n",
        "if num1 == 1:\n",
        "  print(\"Good morning, \" + name1 + \"!\")\n",
        "elif num1 == 2:\n",
        "  print(\"Good afternoon, \" + name1 + \"!\")\n",
        "elif num1 == 3:\n",
        "  print(\"Have a great vocation, \" + name1 + \"!\")\n",
        "elif num1 == 4:\n",
        "  print(\"congratulations, you won the $10 \" + name1 + \"!\")\n",
        "else:\n",
        "  print(\"Congratulations, you won the $500, \" + name1 + \"!\")"
      ],
      "metadata": {
        "colab": {
          "base_uri": "https://localhost:8080/"
        },
        "id": "zbVqgimK8q_9",
        "outputId": "a682d059-1f4f-43da-f7d9-cbb32f197a76"
      },
      "execution_count": null,
      "outputs": [
        {
          "output_type": "stream",
          "name": "stdout",
          "text": [
            "What is your name?\n",
            "Isabell\n",
            "Choose a number between 1 and 5.\n",
            "4\n",
            "congratulations, you won the $10 Isabell!\n"
          ]
        }
      ]
    },
    {
      "cell_type": "code",
      "source": [
        "num1 = int(input(\"Guess a number: \"))\n",
        "selectnumber = 29\n",
        "while num1 != selectnumber:\n",
        "  print(\"Try again\")\n",
        "  num1 = int(input(\"Guess again: \"))\n",
        "print(\"Good job!\")"
      ],
      "metadata": {
        "colab": {
          "base_uri": "https://localhost:8080/"
        },
        "id": "37FYlE0i-4iK",
        "outputId": "907ed7d8-7a3f-4233-bec4-b21f06e62a62"
      },
      "execution_count": null,
      "outputs": [
        {
          "output_type": "stream",
          "name": "stdout",
          "text": [
            "Guess a number: 28\n",
            "Try again\n",
            "Guess again: 38\n",
            "Try again\n",
            "Guess again: 73\n",
            "Try again\n",
            "Guess again: 29\n",
            "Good job!\n"
          ]
        }
      ]
    },
    {
      "cell_type": "code",
      "source": [
        "counter =1\n",
        "while counter <=12:\n",
        "  print(counter, \"* 7 =\", counter * 7)\n",
        "  counter += 1"
      ],
      "metadata": {
        "colab": {
          "base_uri": "https://localhost:8080/"
        },
        "id": "Bd2oH0AWA956",
        "outputId": "bf141e26-c244-449f-8fef-b8ee13596a95"
      },
      "execution_count": null,
      "outputs": [
        {
          "output_type": "stream",
          "name": "stdout",
          "text": [
            "1 * 7 = 7\n",
            "2 * 7 = 14\n",
            "3 * 7 = 21\n",
            "4 * 7 = 28\n",
            "5 * 7 = 35\n",
            "6 * 7 = 42\n",
            "7 * 7 = 49\n",
            "8 * 7 = 56\n",
            "9 * 7 = 63\n",
            "10 * 7 = 70\n",
            "11 * 7 = 77\n",
            "12 * 7 = 84\n"
          ]
        }
      ]
    },
    {
      "cell_type": "markdown",
      "source": [
        "#Homework Challenge"
      ],
      "metadata": {
        "id": "P6RWfqlAHRUg"
      }
    },
    {
      "cell_type": "code",
      "source": [
        "num1 = int(input(\"Choose a number: \"))\n",
        "counter = 1\n",
        "while counter <= num1:\n",
        "  print(counter**3, end=' ')\n",
        "  counter += 1\n"
      ],
      "metadata": {
        "colab": {
          "base_uri": "https://localhost:8080/"
        },
        "id": "0A8B6YIEEWU8",
        "outputId": "23e72a92-e707-4d77-fdb7-b7164a59d1eb"
      },
      "execution_count": null,
      "outputs": [
        {
          "output_type": "stream",
          "name": "stdout",
          "text": [
            "Choose a number: 8\n",
            "1 8 27 64 125 216 343 512 "
          ]
        }
      ]
    }
  ]
}
{
  "nbformat": 4,
  "nbformat_minor": 0,
  "metadata": {
    "colab": {
      "provenance": [],
      "include_colab_link": true
    },
    "kernelspec": {
      "name": "python3",
      "display_name": "Python 3"
    },
    "language_info": {
      "name": "python"
    }
  },
  "cells": [
    {
      "cell_type": "markdown",
      "metadata": {
        "id": "view-in-github",
        "colab_type": "text"
      },
      "source": [
        "<a href=\"https://colab.research.google.com/github/Isabell-Gao/ALP24-CS/blob/main/Ceaser_Shift.ipynb\" target=\"_parent\"><img src=\"https://colab.research.google.com/assets/colab-badge.svg\" alt=\"Open In Colab\"/></a>"
      ]
    },
    {
      "cell_type": "markdown",
      "source": [
        "#Ceaser Shift\n",
        "\n",
        "This is a simple cipher read more [here](https://en.wikipedia.org/wiki/Caesar_cipher). Find out how the cipher works and then try to code it.\n",
        "\n",
        "Below you will find a simple version of the code. It is not as sophisticated as it has a lot of limitations but try to give it a go and solve it.\n",
        "\n",
        "Find out what the mod does in python."
      ],
      "metadata": {
        "id": "11Mf7GhuTuEY"
      }
    },
    {
      "cell_type": "code",
      "source": [
        "# Try putting % between two numbers. Can you figure out what operation does the % symbol reponsible for?\n",
        "#E.g.\n",
        "print(3%5)\n"
      ],
      "metadata": {
        "colab": {
          "base_uri": "https://localhost:8080/"
        },
        "id": "T_vmEKNUWdwv",
        "outputId": "09cfef05-19a8-48c7-f60b-c55da5bfbcc8"
      },
      "execution_count": null,
      "outputs": [
        {
          "output_type": "stream",
          "name": "stdout",
          "text": [
            "3\n"
          ]
        }
      ]
    },
    {
      "cell_type": "code",
      "execution_count": null,
      "metadata": {
        "id": "mphIKssQTrhx"
      },
      "outputs": [],
      "source": [
        "alpha = \"ABCDEFGHIJKLMNOPQRSTUVWXYZ \"\n",
        "\n",
        "def caesar_encode(text, n):\n",
        "    answerList = []\n",
        "    for letter in text:\n",
        "        ind = alpha.index(letter)\n",
        "        ind += n\n",
        "        ind %= 27\n",
        "        answerList.append(alpha[ind])\n",
        "    return \"\".join(answerList)\n",
        "\n",
        "def caesar_decode(text, n):\n",
        "    answerList = []\n",
        "    for letter in text:\n",
        "        ind = alpha.index(letter)\n",
        "        ind -= n\n",
        "        ind %= 27\n",
        "        answerList.append(alpha[ind])\n",
        "    return \"\".join(answerList)\n",
        "\n",
        "test = \"HELLO WORLD\"\n",
        "shift = 5\n",
        "\n",
        "\n"
      ]
    },
    {
      "cell_type": "code",
      "source": [
        "caesar_encode(\"HELLO WORLD\", 5)\n",
        "print(alpha.index(\" \"))\n"
      ],
      "metadata": {
        "colab": {
          "base_uri": "https://localhost:8080/"
        },
        "id": "20YIEUaiZR-1",
        "outputId": "c901b0d9-1192-40bd-d9d6-8757cf68701e"
      },
      "execution_count": null,
      "outputs": [
        {
          "output_type": "stream",
          "name": "stdout",
          "text": [
            "26\n"
          ]
        }
      ]
    },
    {
      "cell_type": "code",
      "source": [
        "caesar_decode(\"MJQQTEATWQI\", 5)"
      ],
      "metadata": {
        "colab": {
          "base_uri": "https://localhost:8080/",
          "height": 35
        },
        "id": "0TXSuifPbbZp",
        "outputId": "ba0049be-d20a-4822-a777-19075d052571"
      },
      "execution_count": null,
      "outputs": [
        {
          "output_type": "execute_result",
          "data": {
            "text/plain": [
              "'HELLO WORLD'"
            ],
            "application/vnd.google.colaboratory.intrinsic+json": {
              "type": "string"
            }
          },
          "metadata": {},
          "execution_count": 46
        }
      ]
    },
    {
      "cell_type": "markdown",
      "source": [
        "##Encode"
      ],
      "metadata": {
        "id": "e7iqfr1vUjHo"
      }
    },
    {
      "cell_type": "code",
      "source": [
        "enc = caesar_encode(test, shift)\n",
        "print(enc)"
      ],
      "metadata": {
        "colab": {
          "base_uri": "https://localhost:8080/"
        },
        "id": "xUgikMWaUN5N",
        "outputId": "fe62638d-8044-4665-a3e3-454106f86719"
      },
      "execution_count": null,
      "outputs": [
        {
          "output_type": "stream",
          "name": "stdout",
          "text": [
            "MJQQTEATWQI\n"
          ]
        }
      ]
    },
    {
      "cell_type": "markdown",
      "source": [
        "##Decode\n",
        "\n",
        "complete the missing code."
      ],
      "metadata": {
        "id": "gflev3gAUeDI"
      }
    },
    {
      "cell_type": "code",
      "source": [
        "\n",
        "dec = caesar_decode(enc, shift)\n",
        "print(dec)"
      ],
      "metadata": {
        "colab": {
          "base_uri": "https://localhost:8080/"
        },
        "id": "GcRnbg3EUdQa",
        "outputId": "b0d3cc49-dcbe-4bc3-91d3-36ad2fdc63e5"
      },
      "execution_count": null,
      "outputs": [
        {
          "output_type": "stream",
          "name": "stdout",
          "text": [
            "HELLO WORLD\n"
          ]
        }
      ]
    },
    {
      "cell_type": "code",
      "source": [],
      "metadata": {
        "id": "Hbs6jWU-U0ry"
      },
      "execution_count": null,
      "outputs": []
    },
    {
      "cell_type": "markdown",
      "source": [
        "1. Make a version of the Cipher where you involve the user to encode and decode. You can make use of the input command.\n",
        "2. What if you wanted the cipher to include spaces and numbers? How would you change it? Try it.\n",
        "3. Can you make this into a sub routine?"
      ],
      "metadata": {
        "id": "3cXWwMu6XEBw"
      }
    },
    {
      "cell_type": "code",
      "source": [],
      "metadata": {
        "id": "WyT7h4qaXyHg"
      },
      "execution_count": null,
      "outputs": []
    }
  ]
}
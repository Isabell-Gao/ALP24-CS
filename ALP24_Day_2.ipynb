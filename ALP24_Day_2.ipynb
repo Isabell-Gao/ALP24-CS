{
  "nbformat": 4,
  "nbformat_minor": 0,
  "metadata": {
    "colab": {
      "provenance": [],
      "authorship_tag": "ABX9TyP8N5Svlie2uwuwcVcL/+RI",
      "include_colab_link": true
    },
    "kernelspec": {
      "name": "python3",
      "display_name": "Python 3"
    },
    "language_info": {
      "name": "python"
    }
  },
  "cells": [
    {
      "cell_type": "markdown",
      "metadata": {
        "id": "view-in-github",
        "colab_type": "text"
      },
      "source": [
        "<a href=\"https://colab.research.google.com/github/Isabell-Gao/ALP24-CS/blob/main/ALP24_Day_2.ipynb\" target=\"_parent\"><img src=\"https://colab.research.google.com/assets/colab-badge.svg\" alt=\"Open In Colab\"/></a>"
      ]
    },
    {
      "cell_type": "markdown",
      "source": [
        "#Day 2\n",
        "##Iteration with a counter\n",
        "###Part 1 Task 1"
      ],
      "metadata": {
        "id": "eTGKjcO9xouW"
      }
    },
    {
      "cell_type": "code",
      "execution_count": null,
      "metadata": {
        "colab": {
          "base_uri": "https://localhost:8080/"
        },
        "id": "_PlXWYOSw2wH",
        "outputId": "c6ddc098-782b-4c77-bc82-7f9650e78d38"
      },
      "outputs": [
        {
          "output_type": "stream",
          "name": "stdout",
          "text": [
            "1\n",
            "This code is inside the loop\n",
            "2\n",
            "This code is inside the loop\n",
            "3\n",
            "This code is inside the loop\n",
            "4\n",
            "This code is inside the loop\n",
            "This code is outside the loop\n"
          ]
        }
      ],
      "source": [
        "counter = 1\n",
        "while counter < 5:\n",
        "  print(counter)\n",
        "  print(\"This code is inside the loop\")\n",
        "  counter += 1\n",
        "print(\"This code is outside the loop\")"
      ]
    },
    {
      "cell_type": "markdown",
      "source": [
        "###Task 2"
      ],
      "metadata": {
        "id": "IuQeZzPezeqU"
      }
    },
    {
      "cell_type": "code",
      "source": [
        "counter = int(input(\"Enter a number for the countdown\"))\n",
        "while counter > 0:\n",
        "  print(counter)\n",
        "  #print(\"This code is inside the loop\")\n",
        "  counter -= 1\n",
        "print(\"Blast off..\")"
      ],
      "metadata": {
        "colab": {
          "base_uri": "https://localhost:8080/"
        },
        "id": "gr5t3q_lyG19",
        "outputId": "57d0ae49-9d62-48cb-aa10-2a5d1f3478f9"
      },
      "execution_count": null,
      "outputs": [
        {
          "output_type": "stream",
          "name": "stdout",
          "text": [
            "Enter a number for the countdown11\n",
            "11\n",
            "10\n",
            "9\n",
            "8\n",
            "7\n",
            "6\n",
            "5\n",
            "4\n",
            "3\n",
            "2\n",
            "1\n",
            "Blast off..\n"
          ]
        }
      ]
    },
    {
      "cell_type": "markdown",
      "source": [
        "###Task- Predict & Run"
      ],
      "metadata": {
        "id": "FjliSZZn2bsy"
      }
    },
    {
      "cell_type": "code",
      "source": [
        "correctUserName = \"dave\"\n",
        "userName = input((\"Please enter your username: \"))\n",
        "while userName != correctUserName:\n",
        "  userName = input(\"Username incorrect, please try again: \")\n",
        "  print(\"Welcome, Dave\")\n"
      ],
      "metadata": {
        "colab": {
          "base_uri": "https://localhost:8080/"
        },
        "id": "YUwwlooRz7kd",
        "outputId": "16371b86-04b3-4a1b-f68d-679e34afb9ed"
      },
      "execution_count": null,
      "outputs": [
        {
          "output_type": "stream",
          "name": "stdout",
          "text": [
            "Please enter your username: isabell\n",
            "Username incorrect, please try again: dave\n",
            "Welcome, Dave\n"
          ]
        }
      ]
    },
    {
      "cell_type": "markdown",
      "source": [
        "#Task- Make 1"
      ],
      "metadata": {
        "id": "960iMfch4sGT"
      }
    },
    {
      "cell_type": "code",
      "source": [
        "password1 = input(\"Choose a new Password: \")\n",
        "Old = \"Pg26aG\"\n",
        "while password1 == Old:\n",
        "  print(\"It cannot be the same with your old password. Please try again\")\n",
        "  password1 = input(\"Choose a new Password: \")\n",
        "  print(\"Password accepted\")\n",
        "  password2 = input(\"Print your new Password again: \")\n",
        "  while password2 != password1:\n",
        "    print(\"Passwords do not match. Please try again\")\n",
        "    password2 = input(\"Print your new Password again: \")\n",
        "  print(\"The new password accept!\")\n"
      ],
      "metadata": {
        "colab": {
          "base_uri": "https://localhost:8080/"
        },
        "id": "q6ZgmQ173ICV",
        "outputId": "8072b07b-9ee1-4355-b8c5-06ea831afe7e"
      },
      "execution_count": null,
      "outputs": [
        {
          "output_type": "stream",
          "name": "stdout",
          "text": [
            "Choose a new Password: Pg26aG\n",
            "It cannot be the same with your old password. Please try again\n",
            "Choose a new Password: 123\n",
            "Password accepted\n",
            "Print your new Password again: 123\n",
            "The new password accept!\n"
          ]
        }
      ]
    },
    {
      "cell_type": "markdown",
      "source": [
        "#Lists"
      ],
      "metadata": {
        "id": "6h4ARTqY8Xn3"
      }
    },
    {
      "cell_type": "code",
      "source": [
        "fruit = [\"Apple\", \"Banana\", \"Orange\", \"Watermelon\", \"Mango\", \"Strawberry\"]\n",
        "print(fruit)"
      ],
      "metadata": {
        "colab": {
          "base_uri": "https://localhost:8080/"
        },
        "id": "dcq-Ytyj6bz8",
        "outputId": "e6d3e26f-b46c-44d1-e5d4-9e92d6fb3969"
      },
      "execution_count": null,
      "outputs": [
        {
          "output_type": "stream",
          "name": "stdout",
          "text": [
            "['Apple', 'Banana', 'Orange', 'Watermelon', 'Mango', 'Strawberry']\n"
          ]
        }
      ]
    },
    {
      "cell_type": "code",
      "source": [
        "fruit = [\"Apple\", \"Banana\", \"Orange\", \"Watermelon\", \"Mango\", \"Strawberry\"]\n",
        "print(fruit[3])"
      ],
      "metadata": {
        "colab": {
          "base_uri": "https://localhost:8080/"
        },
        "id": "2TUiLFO4-F9O",
        "outputId": "33493001-88a5-45c2-abbd-b11510c104d5"
      },
      "execution_count": null,
      "outputs": [
        {
          "output_type": "stream",
          "name": "stdout",
          "text": [
            "Watermelon\n"
          ]
        }
      ]
    },
    {
      "cell_type": "code",
      "source": [
        "fruit = [\"Apple\", \"Banana\", \"Orange\", \"Watermelon\", \"Mango\", \"Strawberry\"]\n",
        "print(fruit[int(input(\"Enter a number between 0-6: \"))])\n"
      ],
      "metadata": {
        "colab": {
          "base_uri": "https://localhost:8080/"
        },
        "id": "WtCLz400-ITL",
        "outputId": "3a4bef52-8116-4878-e624-a6c2ec8002e8"
      },
      "execution_count": null,
      "outputs": [
        {
          "output_type": "stream",
          "name": "stdout",
          "text": [
            "Enter a number between 0-6: 4\n",
            "Mango\n"
          ]
        }
      ]
    },
    {
      "cell_type": "markdown",
      "source": [
        "##Add & Remove fromt a list"
      ],
      "metadata": {
        "id": "LBHULm4o_pQD"
      }
    },
    {
      "cell_type": "code",
      "source": [
        "food = [\"bacon\", \"cheese\", \"pasta\", \"beans\"]\n",
        "food.append(\"tomatoes\")\n",
        "food.insert(1, \"ice cream\")\n",
        "food.remove(\"cheese\")\n",
        "food.pop()\n",
        "print(food)"
      ],
      "metadata": {
        "colab": {
          "base_uri": "https://localhost:8080/"
        },
        "id": "ELvLokW1_PSs",
        "outputId": "b9bff9a8-6a15-4e64-a19d-ee75cb3834d4"
      },
      "execution_count": null,
      "outputs": [
        {
          "output_type": "stream",
          "name": "stdout",
          "text": [
            "['bacon', 'ice cream', 'pasta', 'beans']\n"
          ]
        }
      ]
    },
    {
      "cell_type": "markdown",
      "source": [
        "##Homework challenge- Beat the zombie"
      ],
      "metadata": {
        "id": "DBMcf1I4Bm2O"
      }
    },
    {
      "cell_type": "code",
      "source": [
        "weapon = [\"Spear\", \"Trident\", \"War scythe\", \"Dagger-axe\", \"Swordstaff\", \"Alpenstock\", \"Poleaxe\", \"Lucerne hammer\"]\n",
        "print(\"You have encountered a zombie and should prepare to fight now.\")\n",
        "print(\"\")\n",
        "print(\"We have a list of weapons for you, you can choose one from it, or pick two by yourself.\")\n",
        "print(\"\")\n",
        "choose1 = int(input(\"if you chosse form the list put number 1 down, if you pick by yourself write number 2 down: \"))\n",
        "print(choose1)\n",
        "if choose1 == 2:\n",
        "  print(input(\"write two weapons please: \"))\n",
        "else:\n",
        "  print(\"\")\n",
        "  print(weapon)\n",
        "  zombieWeakness= (weapon[3])\n",
        "  weaponchoose = input(\"Please choose one to fight: \")\n",
        "  if weaponchoose == zombieWeakness:\n",
        "    print(\"You won the fight!\")\n",
        "  else:\n",
        "    print(\"You lost the fight...\")\n",
        "\n"
      ],
      "metadata": {
        "colab": {
          "base_uri": "https://localhost:8080/"
        },
        "id": "TEu2c7SyBgDO",
        "outputId": "c719b1d9-d85c-4c73-b68a-56eb737e90b0"
      },
      "execution_count": 91,
      "outputs": [
        {
          "output_type": "stream",
          "name": "stdout",
          "text": [
            "You have encountered a zombie and should prepare to fight now.\n",
            "\n",
            "We have a list of weapons for you, you can choose one from it, or pick two by yourself.\n",
            "\n",
            "if you chosse form the list put number 1 down, if you pick by yourself write number 2 down: 1\n",
            "1\n",
            "\n",
            "['Spear', 'Trident', 'War scythe', 'Dagger-axe', 'Swordstaff', 'Alpenstock', 'Poleaxe', 'Lucerne hammer']\n",
            "Please choose one to fight: Dagger-axe\n",
            "You won the fight!\n"
          ]
        }
      ]
    },
    {
      "cell_type": "markdown",
      "source": [
        "##Independent Challenge -calc"
      ],
      "metadata": {
        "id": "l3lZEd-lKwnR"
      }
    },
    {
      "cell_type": "code",
      "source": [
        "def add(a,b,c):\n",
        "  sum = a+b+c\n",
        "  return sum\n",
        "\n",
        "num1 = int(input(\"Enter a number \"))\n",
        "num2 = 3\n",
        "num3 = 21\n",
        "\n",
        "print(add(num1, num2, num3))"
      ],
      "metadata": {
        "colab": {
          "base_uri": "https://localhost:8080/"
        },
        "id": "umU2BqvwMOA8",
        "outputId": "a2213ad1-0a51-4a76-b6e1-8797a3781814"
      },
      "execution_count": null,
      "outputs": [
        {
          "output_type": "stream",
          "name": "stdout",
          "text": [
            "Enter a number 5\n",
            "29\n"
          ]
        }
      ]
    },
    {
      "cell_type": "code",
      "source": [
        "def add(a,b):\n",
        "  sum = a+b\n",
        "  return sum\n",
        "\n",
        "def subtract(a,b):\n",
        "  difference = a-b\n",
        "  return difference\n",
        "\n",
        "def multiply(a,b):\n",
        "  product = a*b\n",
        "  return product\n",
        "\n",
        "def divide(a,b):\n",
        "  if a or b == 0:\n",
        "    print(\"Error\")\n",
        "  else:\n",
        "    quotient = a/b\n",
        "  return quotient\n",
        "\n",
        "num1 = int(input(\"Enter a number: \"))\n",
        "num2 = int(input(\"Enter a number: \"))\n",
        "\n",
        "op = input(\"What operation would you like to perform? \")\n",
        "if op == \"add\":\n",
        "  print(add(num1,num2))\n",
        "\n",
        "else:\n",
        "  print(subtract(num1,num2))\n",
        "\n"
      ],
      "metadata": {
        "colab": {
          "base_uri": "https://localhost:8080/"
        },
        "id": "8U0INy6VNT5e",
        "outputId": "d8f21599-4c85-4bc4-c62a-20667b460ad2"
      },
      "execution_count": null,
      "outputs": [
        {
          "output_type": "stream",
          "name": "stdout",
          "text": [
            "Enter a number: 5\n",
            "Enter a number: 7\n",
            "What operation would you like to perform? add\n",
            "12\n"
          ]
        }
      ]
    },
    {
      "cell_type": "markdown",
      "source": [
        "#File\n"
      ],
      "metadata": {
        "id": "d-TnkHcXqBuI"
      }
    },
    {
      "cell_type": "code",
      "source": [
        "myFile = open(\"test.txt\", \"r\")\n",
        "\n",
        "for line in myFile:\n",
        " print (line)\n",
        "myFile.close()"
      ],
      "metadata": {
        "colab": {
          "base_uri": "https://localhost:8080/"
        },
        "id": "7b0Kn5dIPnUb",
        "outputId": "b75f5ab0-c6e3-4140-ff41-d9348ff9d09a"
      },
      "execution_count": null,
      "outputs": [
        {
          "output_type": "stream",
          "name": "stdout",
          "text": [
            "{\\rtf1\\ansi\\ansicpg936\\cocoartf2639\n",
            "\n",
            "\\cocoatextscaling0\\cocoaplatform0{\\fonttbl}\n",
            "\n",
            "{\\colortbl;\\red255\\green255\\blue255;}\n",
            "\n",
            "{\\*\\expandedcolortbl;;}\n",
            "\n",
            "\\margl1440\\margr1440\\vieww28600\\viewh15280\\viewkind0\n",
            "\n",
            "}\n"
          ]
        }
      ]
    },
    {
      "cell_type": "code",
      "source": [
        "myFile = open(\"test.txt\", \"w\")\n",
        "\n",
        "myFile.write(\"Hello World.\")\n",
        "\n",
        "myFile.close()"
      ],
      "metadata": {
        "id": "UaU1bvLAqa2O"
      },
      "execution_count": null,
      "outputs": []
    },
    {
      "cell_type": "code",
      "source": [
        "myFile = open(\"test.txt\", \"a\")\n",
        "\n",
        "myFile.write(\" I am Isabell.\")\n",
        "\n",
        "myFile.close()"
      ],
      "metadata": {
        "id": "PWnBILfcrVtF"
      },
      "execution_count": null,
      "outputs": []
    },
    {
      "cell_type": "code",
      "source": [
        "def paragraph(words):\n",
        "  myFile = open(\"test.txt\", \"a\")\n",
        "  myFile.write(words)\n",
        "  myFile.close()\n",
        "\n",
        "text = \"Rohit: Look at this. I’ve been playing with ChatGPT after Ethan Mollick, my former professor at Wharton, kept tweeting about it. He’s now requiring his students to use it for generating business ideas and is teaching them how to structure their requests to optimize their results, something he calls “prompt engineering”. I was skeptical, but the results are amazing. Getting ahead of the curve and learning to use this might be the key to our survival. Elena: Let us see how good it is. When we began SME Consulting, you and I worked with several restaurants to make their operations more efficient, so we know that subject well. Why don’t we test our employees with a scenario based on these experiences? Some can get help from ChatGPT. Others will answer these problems on their own. We will then see how well everyone does.\"\n",
        "text2 = \"This is a different text that is being appended\""
      ],
      "metadata": {
        "id": "zaajzaE5stxW"
      },
      "execution_count": null,
      "outputs": []
    },
    {
      "cell_type": "code",
      "source": [
        "paragraph(text)\n",
        "paragraph(text2)"
      ],
      "metadata": {
        "id": "ZOSXrSBHuDf2"
      },
      "execution_count": null,
      "outputs": []
    },
    {
      "cell_type": "markdown",
      "source": [
        "#For Loops"
      ],
      "metadata": {
        "id": "0FzJznVmwm5N"
      }
    },
    {
      "cell_type": "code",
      "source": [
        "counter = 0\n",
        "for i in range(5):\n",
        "  counter += 1\n",
        "  print(counter)\n"
      ],
      "metadata": {
        "colab": {
          "base_uri": "https://localhost:8080/"
        },
        "id": "BkaChdVnwp7Z",
        "outputId": "ea2cb279-6bec-4d50-df17-2179938a688d"
      },
      "execution_count": null,
      "outputs": [
        {
          "output_type": "stream",
          "name": "stdout",
          "text": [
            "1\n",
            "2\n",
            "3\n",
            "4\n",
            "5\n"
          ]
        }
      ]
    },
    {
      "cell_type": "code",
      "source": [],
      "metadata": {
        "id": "J3KIe83hwzJe"
      },
      "execution_count": null,
      "outputs": []
    }
  ]
}